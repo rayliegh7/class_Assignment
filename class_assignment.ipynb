{
 "cells": [
  {
   "cell_type": "markdown",
   "id": "7f532f2e-1789-4439-8879-16b614c52ec1",
   "metadata": {},
   "source": [
    "# Date 15/12/2022"
   ]
  },
  {
   "cell_type": "code",
   "execution_count": 12,
   "id": "875bae2d-a0bb-46b5-b692-55bf6abab60f",
   "metadata": {},
   "outputs": [
    {
     "name": "stdin",
     "output_type": "stream",
     "text": [
      "1 st number:  2\n",
      "2 nd number:  4\n"
     ]
    },
    {
     "name": "stdout",
     "output_type": "stream",
     "text": [
      "addition of 2 and 4 is: 6\n"
     ]
    }
   ],
   "source": [
    "# ●\tWAP to accept two numbers from the user and display their sum\n",
    "a=int(input('1 st number: '))\n",
    "b=int(input('2 nd number: '))\n",
    "print(f'addition of {a} and {b} is:',a+b)"
   ]
  },
  {
   "cell_type": "code",
   "execution_count": 13,
   "id": "3930486e-37e7-4d99-8d36-e088f94def0d",
   "metadata": {},
   "outputs": [
    {
     "name": "stdin",
     "output_type": "stream",
     "text": [
      " enter a radius in decimal: 4.0\n"
     ]
    },
    {
     "name": "stdout",
     "output_type": "stream",
     "text": [
      "Area of circle is: 50.26548245743669\n",
      "Area of circumference is: 25.132741228718345\n"
     ]
    }
   ],
   "source": [
    "# ●\tWAP to accept radius of a Circle from the user and calculate area and circumference\n",
    "import math\n",
    "pi=math.pi \n",
    "r=float(input(' enter a radius in decimal:'))\n",
    "print('Area of circle is:',pi*r*r)\n",
    "print('Area of circumference is:',2*pi*r)"
   ]
  },
  {
   "cell_type": "code",
   "execution_count": 14,
   "id": "5d17cc84-28d7-4b25-97ad-b8988a734c43",
   "metadata": {},
   "outputs": [
    {
     "name": "stdin",
     "output_type": "stream",
     "text": [
      "enter your roll number,grade,percentage with SPACE: 1 A 92\n"
     ]
    },
    {
     "name": "stdout",
     "output_type": "stream",
     "text": [
      "Your roll number is :1, your grade is : A, your perecentage is 92%\n"
     ]
    }
   ],
   "source": [
    "#●\tWAP to accept roll number , grade and percentage as input from the user and display it back\n",
    "roll_no,grade,percentage=input('enter your roll number,grade,percentage with SPACE:').split()\n",
    "print(f'Your roll number is :{roll_no}, your grade is : {grade}, your perecentage is {percentage}'+'%')"
   ]
  },
  {
   "cell_type": "code",
   "execution_count": 15,
   "id": "ca49274e-560e-4141-8f67-c63d15ea25ff",
   "metadata": {},
   "outputs": [
    {
     "name": "stdin",
     "output_type": "stream",
     "text": [
      "What is your name:: 19\n",
      "How old are you: 19\n"
     ]
    },
    {
     "name": "stdout",
     "output_type": "stream",
     "text": [
      "19, you will be 100 years old in the year 2104\n"
     ]
    }
   ],
   "source": [
    "#Write a program that asks the user to enter his/her name and age. Print out a message , displaying the user’s name along with the year in which they will turn 100 years old.\n",
    "from datetime import date\n",
    "today=date.today()\n",
    "year=today.strftime('%Y')\n",
    "name=input('What is your name::')\n",
    "age=int(input('How old are you:'))\n",
    "print(f'{name}, you will be 100 years old in the year',int(year)-age+100)\n"
   ]
  },
  {
   "cell_type": "code",
   "execution_count": 16,
   "id": "de9b066a-f2b9-48d2-a162-0bf37f795f04",
   "metadata": {},
   "outputs": [
    {
     "ename": "SyntaxError",
     "evalue": "unterminated string literal (detected at line 1) (2248907798.py, line 1)",
     "output_type": "error",
     "traceback": [
      "\u001b[0;36m  Cell \u001b[0;32mIn [16], line 1\u001b[0;36m\u001b[0m\n\u001b[0;31m    name = input('What is your name: \")\u001b[0m\n\u001b[0m                 ^\u001b[0m\n\u001b[0;31mSyntaxError\u001b[0m\u001b[0;31m:\u001b[0m unterminated string literal (detected at line 1)\n"
     ]
    }
   ],
   "source": [
    "name = input('What is your name: ')\n",
    "age = int(input('How old are you: '))\n",
    "year = 2022 - age + 100\n",
    "print(name + ', you will be 100 years old in the year ' + str(year))"
   ]
  },
  {
   "cell_type": "code",
   "execution_count": 17,
   "id": "60445e6e-df45-4773-b366-da2086a3e476",
   "metadata": {},
   "outputs": [
    {
     "name": "stdin",
     "output_type": "stream",
     "text": [
      "enter two number: 2 4\n"
     ]
    },
    {
     "name": "stdout",
     "output_type": "stream",
     "text": [
      "addition of 2 and 4 is : 6\n"
     ]
    }
   ],
   "source": [
    "#●\tWrite a program that asks the user to input 2 integers and adds them . Accept both the numbers in a single line only\n",
    "a,b= input('enter two number:').split()\n",
    "print(f'addition of {a} and {b} is :',int(a)+int(b))"
   ]
  },
  {
   "cell_type": "code",
   "execution_count": null,
   "id": "66efa72f-0c63-4461-bfa2-93be1459f07f",
   "metadata": {},
   "outputs": [],
   "source": [
    "# when i try  using integer  input  i got error \n",
    "a,b=int( input('enter two number:'))\n",
    "\n",
    "print(f'addition of {a} and {b} is :',a+b)"
   ]
  },
  {
   "cell_type": "code",
   "execution_count": 18,
   "id": "649c03c5-bf09-40e1-bd5a-475eaba1d734",
   "metadata": {},
   "outputs": [
    {
     "name": "stdin",
     "output_type": "stream",
     "text": [
      "enter your first name: vicky\n",
      "enter your last name: roy\n"
     ]
    },
    {
     "name": "stdout",
     "output_type": "stream",
     "text": [
      "ykciv yor\n"
     ]
    }
   ],
   "source": [
    "#●\tWrite a Python program which accepts the user's first and last name and print them in reverse order with a space between them.\n",
    "fname=input('enter your first name:')\n",
    "lname=input('enter your last name:')\n",
    "print(f'{fname[::-1]} {lname[::-1]}')"
   ]
  },
  {
   "cell_type": "code",
   "execution_count": 19,
   "id": "4e6c8b07-1158-4030-8c6f-df1a883e7c25",
   "metadata": {
    "tags": []
   },
   "outputs": [
    {
     "name": "stdin",
     "output_type": "stream",
     "text": [
      "enter a number: 2\n"
     ]
    },
    {
     "name": "stdout",
     "output_type": "stream",
     "text": [
      "2 is even\n"
     ]
    }
   ],
   "source": [
    "# ●\tWAP to accept an integer from the user and check whether it is an even or odd \n",
    "n=int(input('enter a number:'))\n",
    "if n>0:\n",
    "    if n%2==0:\n",
    "        print (f'{n} is even')\n",
    "    else:\n",
    "        print(f'{n} is odd')\n",
    "else:\n",
    "    print('number schould be +ve')"
   ]
  },
  {
   "cell_type": "code",
   "execution_count": 20,
   "id": "c49acde1-dfff-4e27-88b8-ad4b22d89cba",
   "metadata": {},
   "outputs": [
    {
     "name": "stdin",
     "output_type": "stream",
     "text": [
      "enter a character  v\n"
     ]
    },
    {
     "name": "stdout",
     "output_type": "stream",
     "text": [
      "v\n",
      "1\n",
      "upper []\n",
      "lower ['v']\n"
     ]
    }
   ],
   "source": [
    "#●\tWAP to accept a character from the user and check whether it is a capital letter or small letter. Assume user will input only alphabets\n",
    "character1 =input('enter a character ')\n",
    "print(character1)\n",
    "x=character1.upper()\n",
    "y=character1.lower()\n",
    "upper=[]\n",
    "lower=[]\n",
    "# print(character[1]==x[1])\n",
    "if len(character1)==1:\n",
    "    for i in range(0,len(character1),1):\n",
    "        if character1[i] in x[i]:\n",
    "            upper.append(character1[i])\n",
    "        if character1[i] in y[i]:\n",
    "            lower.append(character1[i])\n",
    "else:\n",
    "    print('only character are allowed')\n",
    "print('upper',upper)\n",
    "print('lower',lower)\n",
    "    \n",
    "\n",
    "\n"
   ]
  },
  {
   "cell_type": "code",
   "execution_count": null,
   "id": "27160d3b-c397-41e9-be70-499c9ecfb298",
   "metadata": {},
   "outputs": [],
   "source": [
    "#●\tWAP to accept a character from the user and check whether it is a capital letter or small letter or a digit or some special symbol\n",
    "character1 =input('enter a character ')\n",
    "if len(character1)==1:\n",
    "    if character1.isupper():\n",
    "        print(f'{char} is in Capital Letter')\n",
    "    elif char.isdigit():\n",
    "        print(f'{char} enter is digit')\n",
    "    elif char.islower():\n",
    "        print(f'{char} enter is in Small Letter')\n",
    "    else:\n",
    "        print(f'{char} enter is Special symbol')\n",
    "else:\n",
    "    print('only characters are allowed')"
   ]
  },
  {
   "cell_type": "code",
   "execution_count": 21,
   "id": "1d36cb2a-7aca-43a9-b4bc-380518868b49",
   "metadata": {},
   "outputs": [
    {
     "name": "stdin",
     "output_type": "stream",
     "text": [
      "enter a year 2002\n"
     ]
    },
    {
     "name": "stdout",
     "output_type": "stream",
     "text": [
      "2002 is not a leap year.\n"
     ]
    }
   ],
   "source": [
    "#\tWAP to accept a year from the user and check whether it is a leap year or not.\n",
    "year=int(input('enter a year'))\n",
    "if (year%4 == 0 and year%100 != 0) or (year%400 == 0) :\n",
    "    print(year, \"is a leap year.\")\n",
    "else :\n",
    "    print(year, \"is not a leap year.\")"
   ]
  },
  {
   "cell_type": "code",
   "execution_count": 22,
   "id": "852129c6-5327-48cf-89a9-17212036e9d9",
   "metadata": {},
   "outputs": [
    {
     "name": "stdin",
     "output_type": "stream",
     "text": [
      "please enter your number between 1 to 100: 20\n"
     ]
    },
    {
     "name": "stdout",
     "output_type": "stream",
     "text": [
      "to low\n"
     ]
    },
    {
     "name": "stdin",
     "output_type": "stream",
     "text": [
      "please enter your number between 1 to 100: 0\n"
     ]
    },
    {
     "name": "stdout",
     "output_type": "stream",
     "text": [
      "you exit from game\n",
      "you guess number in 2\n"
     ]
    }
   ],
   "source": [
    "import random\n",
    "no=random.randint(0,100)\n",
    "attempt=0\n",
    "while True:\n",
    "    attempt+=1\n",
    "    n=int(input('please enter your number between 1 to 100:'))\n",
    "    if n>0 and n<no:\n",
    "        print('to low')\n",
    "    elif n>no:\n",
    "        print('to high')\n",
    "    elif  n<=0 :\n",
    "        print('you exit from game')\n",
    "        break\n",
    "    elif n==no:\n",
    "        print('your guess right')\n",
    "        break\n",
    "print(f'you guess number in {attempt}')\n",
    "#i know my code not working correctly but i try to solve that program,but i am not able to solve these problems\n",
    "    "
   ]
  },
  {
   "cell_type": "code",
   "execution_count": 23,
   "id": "a3528a52-61fa-460f-bb5e-e665bc4a147d",
   "metadata": {},
   "outputs": [
    {
     "name": "stdin",
     "output_type": "stream",
     "text": [
      "enter your string sunny savita\n"
     ]
    },
    {
     "name": "stdout",
     "output_type": "stream",
     "text": [
      "s\n",
      "n\n",
      "n\n",
      "y\n",
      " \n",
      "s\n",
      "v\n",
      "t\n"
     ]
    }
   ],
   "source": [
    "#●\tWrite a program to accept a string from the user and display it vertically but don’t display the vowels in it\n",
    "s=input('enter your string')\n",
    "v=['a','e','i','o','u','A','E','I','O','U']\n",
    "for i in range(0,len(s)):\n",
    "    if s[i] not in v:\n",
    "        print(s[i])"
   ]
  },
  {
   "cell_type": "code",
   "execution_count": null,
   "id": "746a4b24-9a94-4e30-811f-39f811cded84",
   "metadata": {},
   "outputs": [],
   "source": [
    "i=0\n",
    "while True:\n",
    "    n=int(input('enter a number:'))\n",
    "    i=i+n\n",
    "    if n==0:\n",
    "        break\n",
    "print('sum of number enter  before zero is :',i)"
   ]
  },
  {
   "cell_type": "code",
   "execution_count": null,
   "id": "9939222e-84fc-47dd-a058-3de2c9be81b9",
   "metadata": {},
   "outputs": [],
   "source": [
    "#●\tWrite a program to accept an integer from the user and display the sum of all the numbers from 1 to that number.\n",
    "n=int(input('enter a number'))\n",
    "sum=0\n",
    "for i in range(n+1):\n",
    "    sum+=i\n",
    "print('The sum of all numbers from 1 to the given number is: ', sum)"
   ]
  },
  {
   "cell_type": "code",
   "execution_count": null,
   "id": "6ed46cd4-6dcc-4c6a-b878-e52acb82b561",
   "metadata": {},
   "outputs": [],
   "source": [
    "#●\tWrite a program to accept an integer from the user and calculate its factorial\n",
    "n=int(input('enter a number so i can find factoial'))\n",
    "fact=1\n",
    "if n>0:\n",
    "    for i in range(n,0,-1):\n",
    "        fact=fact*i\n",
    "print(f'Factorial of {n} is ',fact)"
   ]
  },
  {
   "cell_type": "code",
   "execution_count": null,
   "id": "e2cc59a3-35d8-4281-944a-5a8b84a98db7",
   "metadata": {},
   "outputs": [],
   "source": [
    "n=int(input('number of rows'))\n",
    "for i in range(0,n):\n",
    "    for j in range(0,n):\n",
    "        print('*',end='')\n",
    "    print('\\r')\n",
    "    "
   ]
  },
  {
   "cell_type": "code",
   "execution_count": null,
   "id": "9a91e30f-6351-44ec-bdeb-3bb764ac34fc",
   "metadata": {},
   "outputs": [],
   "source": [
    "n=int(input('number of rows'))\n",
    "for i in range(0,n):\n",
    "    for j in range(0,i+1):\n",
    "        print('*',end='')\n",
    "    print('\\r')"
   ]
  },
  {
   "cell_type": "code",
   "execution_count": null,
   "id": "f31f4768-a8af-47d2-a19a-bfb0d911edf6",
   "metadata": {},
   "outputs": [],
   "source": [
    "n=int(input('number of rows'))\n",
    "for i in range(n,0,-1):\n",
    "    for j in range(1,i+1):\n",
    "        print('*',end='')\n",
    "    print('\\r')"
   ]
  },
  {
   "cell_type": "code",
   "execution_count": null,
   "id": "04c8c840-ad02-463b-90e3-b05460f49cd2",
   "metadata": {},
   "outputs": [],
   "source": []
  }
 ],
 "metadata": {
  "kernelspec": {
   "display_name": "Python 3 (ipykernel)",
   "language": "python",
   "name": "python3"
  },
  "language_info": {
   "codemirror_mode": {
    "name": "ipython",
    "version": 3
   },
   "file_extension": ".py",
   "mimetype": "text/x-python",
   "name": "python",
   "nbconvert_exporter": "python",
   "pygments_lexer": "ipython3",
   "version": "3.10.6"
  }
 },
 "nbformat": 4,
 "nbformat_minor": 5
}
