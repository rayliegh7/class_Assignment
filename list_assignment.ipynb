{
 "cells": [
  {
   "cell_type": "markdown",
   "id": "f15275c9-6587-44f2-ae72-b698c2183a0e",
   "metadata": {
    "tags": []
   },
   "source": [
    "## write a program that acepect 5 numbers from user and store them into list and print their sum also"
   ]
  },
  {
   "cell_type": "code",
   "execution_count": 1,
   "id": "64099742-987c-43a8-b81e-2b69d4bc29eb",
   "metadata": {},
   "outputs": [
    {
     "name": "stdin",
     "output_type": "stream",
     "text": [
      "enter your list size 5\n",
      "enter list element 4\n",
      "enter list element 55\n",
      "enter list element 66\n",
      "enter list element 7\n",
      "enter list element 8\n"
     ]
    },
    {
     "name": "stdout",
     "output_type": "stream",
     "text": [
      "it is your list  [4, 55, 66, 7, 8]\n",
      "sum of them is  140\n"
     ]
    }
   ],
   "source": [
    "n=int(input('enter your list size'))\n",
    "l1=[]\n",
    "for i in range(0,n):\n",
    "    n2=int(input('enter list element'))\n",
    "    l1.append(n2)\n",
    "print('it is your list ',l1)\n",
    "print('sum of them is ',sum(l1))"
   ]
  },
  {
   "cell_type": "markdown",
   "id": "489e1d96-e4d4-4013-a0c7-610c8e327ebc",
   "metadata": {},
   "source": [
    "## Write a program to accept 5 unique integers from the user. Make sure if the integer being entered is already present in the list your code displays the message \"item already present\" and ask the user to reenter the integer. "
   ]
  },
  {
   "cell_type": "code",
   "execution_count": 2,
   "id": "afad7801-4ced-4bba-ad31-7bd0f7d4dc95",
   "metadata": {},
   "outputs": [
    {
     "name": "stdin",
     "output_type": "stream",
     "text": [
      "number1 5\n",
      "number2 5\n"
     ]
    },
    {
     "name": "stdout",
     "output_type": "stream",
     "text": [
      "you enter 5 before\n"
     ]
    },
    {
     "name": "stdin",
     "output_type": "stream",
     "text": [
      "number2 4\n"
     ]
    },
    {
     "name": "stdout",
     "output_type": "stream",
     "text": [
      "[5, 4]\n"
     ]
    },
    {
     "name": "stdin",
     "output_type": "stream",
     "text": [
      "number 3 5\n"
     ]
    },
    {
     "name": "stdout",
     "output_type": "stream",
     "text": [
      "you enter 5 before\n"
     ]
    },
    {
     "name": "stdin",
     "output_type": "stream",
     "text": [
      "number3 4\n"
     ]
    },
    {
     "name": "stdout",
     "output_type": "stream",
     "text": [
      "you enter 4 before\n"
     ]
    },
    {
     "name": "stdin",
     "output_type": "stream",
     "text": [
      "number3 2\n"
     ]
    },
    {
     "name": "stdout",
     "output_type": "stream",
     "text": [
      "[5, 4, 2]\n"
     ]
    },
    {
     "name": "stdin",
     "output_type": "stream",
     "text": [
      "number 4 5\n"
     ]
    },
    {
     "name": "stdout",
     "output_type": "stream",
     "text": [
      "you enter 5 before\n"
     ]
    },
    {
     "name": "stdin",
     "output_type": "stream",
     "text": [
      "number 4 4\n"
     ]
    },
    {
     "name": "stdout",
     "output_type": "stream",
     "text": [
      "you enter 4 before\n"
     ]
    },
    {
     "name": "stdin",
     "output_type": "stream",
     "text": [
      "number 4 2\n"
     ]
    },
    {
     "name": "stdout",
     "output_type": "stream",
     "text": [
      "you enter 2 before\n"
     ]
    },
    {
     "name": "stdin",
     "output_type": "stream",
     "text": [
      "number 4 2\n"
     ]
    },
    {
     "name": "stdout",
     "output_type": "stream",
     "text": [
      "you enter 2 before\n"
     ]
    },
    {
     "name": "stdin",
     "output_type": "stream",
     "text": [
      "number 4 1\n"
     ]
    },
    {
     "name": "stdout",
     "output_type": "stream",
     "text": [
      "[5, 4, 2, 1]\n"
     ]
    },
    {
     "name": "stdin",
     "output_type": "stream",
     "text": [
      "number 5 1\n"
     ]
    },
    {
     "name": "stdout",
     "output_type": "stream",
     "text": [
      "you enter 1 before\n"
     ]
    },
    {
     "name": "stdin",
     "output_type": "stream",
     "text": [
      "number 5 2\n"
     ]
    },
    {
     "name": "stdout",
     "output_type": "stream",
     "text": [
      "you enter 2 before\n"
     ]
    },
    {
     "name": "stdin",
     "output_type": "stream",
     "text": [
      "number 5 5\n"
     ]
    },
    {
     "name": "stdout",
     "output_type": "stream",
     "text": [
      "you enter 5 before\n"
     ]
    },
    {
     "name": "stdin",
     "output_type": "stream",
     "text": [
      "number 5 5\n"
     ]
    },
    {
     "name": "stdout",
     "output_type": "stream",
     "text": [
      "you enter 5 before\n"
     ]
    },
    {
     "name": "stdin",
     "output_type": "stream",
     "text": [
      "number 5 4\n"
     ]
    },
    {
     "name": "stdout",
     "output_type": "stream",
     "text": [
      "you enter 4 before\n"
     ]
    },
    {
     "name": "stdin",
     "output_type": "stream",
     "text": [
      "number 5 5\n"
     ]
    },
    {
     "name": "stdout",
     "output_type": "stream",
     "text": [
      "you enter 5 before\n"
     ]
    },
    {
     "name": "stdin",
     "output_type": "stream",
     "text": [
      "number 5 6\n"
     ]
    },
    {
     "name": "stdout",
     "output_type": "stream",
     "text": [
      "your unique list: [5, 4, 2, 1, 6]\n"
     ]
    }
   ],
   "source": [
    "l1=[]\n",
    "n1=int(input('number1'))\n",
    "l1.append(n1)\n",
    "n2=int(input('number2'))\n",
    "i=0\n",
    "while n1==n2:\n",
    "    print(f'you enter {n2} before')\n",
    "    n2=int(input('number2'))\n",
    "    i=i+1\n",
    "else:\n",
    "    l1.append(n2)\n",
    "print(l1)\n",
    "\n",
    "n3=int(input('number 3'))\n",
    "while n3==n2 or n3==n1:\n",
    "    print(f'you enter {n3} before')\n",
    "    n3=int(input('number3'))\n",
    "    i=i+1\n",
    "else:\n",
    "    l1.append(n3)\n",
    "print(l1)\n",
    "\n",
    "n4=int(input('number 4'))\n",
    "while n4==n3 or n4==n2 or n4==n1:\n",
    "    print(f'you enter {n4} before')\n",
    "    n4=int(input('number 4'))\n",
    "    i=i+1\n",
    "else:\n",
    "    l1.append(n4)\n",
    "print(l1)\n",
    "n5=int(input('number 5'))\n",
    "while n5==n4 or n5==n3 or n5==n2 or n5==n1:\n",
    "    print(f'you enter {n5} before')\n",
    "    n5=int(input('number 5'))\n",
    "    i=i+15\n",
    "    \n",
    "else:\n",
    "    l1.append(n5)\n",
    "print('your unique list:',l1)\n",
    "    "
   ]
  },
  {
   "cell_type": "markdown",
   "id": "9a164a0a-eb8e-4fde-8764-8c52e2dc6bdf",
   "metadata": {},
   "source": [
    "## Q3 and Q4"
   ]
  },
  {
   "cell_type": "code",
   "execution_count": null,
   "id": "593dbb21-4bec-4b7b-9277-c363c2417442",
   "metadata": {},
   "outputs": [],
   "source": [
    "n=int(input('enter your list size: '))\n",
    "l1=[]\n",
    "l2=[]\n",
    "l3=[]\n",
    "for i in range(0,n):\n",
    "    n1=int(input('enter your element of list1'))\n",
    "    l1.append(n1)\n",
    "print('your lis 1 is:',l1)\n",
    "for j in range (0,n):\n",
    "    n3=int(input('enter your element of list2'))\n",
    "    l2.append(n3)\n",
    "print('your list 2 is:',l2)\n",
    "for m in l1:\n",
    "    for n in l2:\n",
    "        if m==n:\n",
    "            l3.append(m)\n",
    "k=l3.sort()\n",
    "print(f'same elements from both  list is {l3}')\n",
    "print(f'in both list {len(l3)} elements are common')\n",
    "        "
   ]
  },
  {
   "cell_type": "code",
   "execution_count": null,
   "id": "2cb613e8-1623-435d-815f-134befc762fa",
   "metadata": {},
   "outputs": [],
   "source": []
  },
  {
   "cell_type": "code",
   "execution_count": null,
   "id": "a71086a5-6ad5-4dbd-8ae5-2425a28b03ee",
   "metadata": {},
   "outputs": [],
   "source": []
  }
 ],
 "metadata": {
  "kernelspec": {
   "display_name": "Python 3 (ipykernel)",
   "language": "python",
   "name": "python3"
  },
  "language_info": {
   "codemirror_mode": {
    "name": "ipython",
    "version": 3
   },
   "file_extension": ".py",
   "mimetype": "text/x-python",
   "name": "python",
   "nbconvert_exporter": "python",
   "pygments_lexer": "ipython3",
   "version": "3.10.6"
  }
 },
 "nbformat": 4,
 "nbformat_minor": 5
}
